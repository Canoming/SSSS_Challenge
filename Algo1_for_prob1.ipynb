{
 "cells": [
  {
   "cell_type": "markdown",
   "metadata": {},
   "source": [
    "# Algorithm 1: Tensor Network\n",
    "\n",
    "authors: Ximing Wang, Bin Cheng"
   ]
  },
  {
   "cell_type": "code",
   "execution_count": 1,
   "metadata": {},
   "outputs": [],
   "source": [
    "import torch,math\n",
    "import numpy as np\n",
    "from scipy.linalg import sqrtm"
   ]
  },
  {
   "cell_type": "code",
   "execution_count": 2,
   "metadata": {},
   "outputs": [
    {
     "name": "stdout",
     "output_type": "stream",
     "text": [
      "1.5147392357988083\n",
      "Wall time: 30.3 ms\n"
     ]
    }
   ],
   "source": [
    "%%time\n",
    "Bs=torch.tensor(sqrtm(np.array([[np.e,1/np.e],[1/np.e,np.e]])),dtype=torch.float64,device=torch.device('cpu')) # the Boltzmann matrix\n",
    "\n",
    "Node=torch.einsum(\"il,jl,kl->ijk\",Bs,Bs,Bs)\n",
    "Pen = torch.einsum(\"iab,jbc,kcd,lde,mea->ijklm\",Node,Node,Node,Node,Node)\n",
    "Top = torch.einsum(\"pqrst,aopkb,ckqld,elrmf,gmsnh,intoj->abcdefghij\",Pen,Pen,Pen,Pen,Pen,Pen)\n",
    "Total = torch.einsum(\"abcdefghij,defghijabc->\",Top,Top)\n",
    "\n",
    "print(math.log(Total.norm())/60)"
   ]
  },
  {
   "cell_type": "code",
   "execution_count": 3,
   "metadata": {},
   "outputs": [
    {
     "name": "stdout",
     "output_type": "stream",
     "text": [
      "1.5147779725526995\n",
      "Wall time: 2.92 ms\n"
     ]
    }
   ],
   "source": [
    "%%time\n",
    "Bs=torch.tensor(sqrtm(np.array([[np.e,1/np.e],[1/np.e,np.e]])),dtype=torch.float64,device=torch.device('cpu')) # the Boltzmann matrix\n",
    "\n",
    "Node = torch.einsum(\"il,jl,kl->ijk\",Bs,Bs,Bs)\n",
    "Pen = torch.einsum(\"iab,jbc,kcd,lde,mea->ijklm\",Node,Node,Node,Node,Node)\n",
    "Tri = torch.einsum(\"abckj,deflk,ghijl->abcdefghi\",Pen,Pen,Pen)\n",
    "Bi = torch.einsum(\"abcdefghi,aijklmnob -> cdefghjklmno\", Tri,Tri)\n",
    "Total = torch.einsum(\"abcdefghijkl,lkjihgfedcba ->\",Bi,Bi)\n",
    "\n",
    "print(math.log(Total.norm())/60)"
   ]
  },
  {
   "cell_type": "code",
   "execution_count": null,
   "metadata": {},
   "outputs": [],
   "source": []
  }
 ],
 "metadata": {
  "@webio": {
   "lastCommId": null,
   "lastKernelId": null
  },
  "kernelspec": {
   "display_name": "Python (PyTorch)",
   "language": "python",
   "name": "torch"
  },
  "language_info": {
   "codemirror_mode": {
    "name": "ipython",
    "version": 3
   },
   "file_extension": ".py",
   "mimetype": "text/x-python",
   "name": "python",
   "nbconvert_exporter": "python",
   "pygments_lexer": "ipython3",
   "version": "3.7.1"
  }
 },
 "nbformat": 4,
 "nbformat_minor": 2
}
