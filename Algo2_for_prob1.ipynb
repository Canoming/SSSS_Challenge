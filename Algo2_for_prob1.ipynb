{
 "cells": [
  {
   "cell_type": "code",
   "execution_count": 116,
   "metadata": {
    "scrolled": false
   },
   "outputs": [],
   "source": [
    "using Random\n",
    "# Init\n",
    "Pend=BitArray(undef, 5,3,4); Tri=BitArray(undef, 3,4); Tetra=BitArray(undef, 3,4); Con=BitArray(undef, 6);\n",
    "K = [[[1,3],[2,2],[3,4]],[[1,4],[2,1],[3,3]],[[1,1],[2,4],[3,2]],[[1,1],[2,2],[3,3]]];\n",
    "\n",
    "N=1000000;"
   ]
  },
  {
   "cell_type": "code",
   "execution_count": 77,
   "metadata": {},
   "outputs": [
    {
     "data": {
      "text/plain": [
       "Eva (generic function with 1 method)"
      ]
     },
     "execution_count": 77,
     "metadata": {},
     "output_type": "execute_result"
    }
   ],
   "source": [
    "function Eva(node::BitArray{3})\n",
    "    for j in 1:size(Node,3)\n",
    "        for k in 1:size(Node,2)\n",
    "            for l in 1:size(Node,1)\n",
    "                Pend[l,k,j] = Node[l,k,j] ⊻ Node[l%5+1,k,j];\n",
    "            end\n",
    "            Tri[k,j] = Node[2,k,j] ⊻ Node[3,k%3+1,j];\n",
    "        end\n",
    "    end\n",
    "    for i in 1:size(Node,3)-1\n",
    "        Con[i] = Node[1,i,i] ⊻ Node[1,i,i%3+1];\n",
    "        Con[i+3] = Node[1,i,i] ⊻ Node[1,i%+1,4];\n",
    "    end\n",
    "    for i in 1:size(Node,3) \n",
    "        for j in 1:size(Node,2)\n",
    "            Tetra[j,i] = Node[4,j,K[i][j][1]] ⊻ Node[5,j%3+1,K[i][j][2]];\n",
    "        end\n",
    "    end\n",
    "    \n",
    "    return 2*(sum(Tri)+sum(Pend)+sum(Con)+sum(Tetra))-90\n",
    "end"
   ]
  },
  {
   "cell_type": "code",
   "execution_count": 136,
   "metadata": {},
   "outputs": [
    {
     "data": {
      "text/plain": [
       "1.1945310018214903"
      ]
     },
     "execution_count": 136,
     "metadata": {},
     "output_type": "execute_result"
    }
   ],
   "source": [
    "Pop = 0; Max = 0;\n",
    "String=BitArray(undef, 5,3,4);\n",
    "for i = 1:N\n",
    "    Node = bitrand(5,3,4);\n",
    "    E = Eva(Node);\n",
    "    Max = max(Max,E);\n",
    "    if Max == E\n",
    "        String = Node;\n",
    "    end    \n",
    "    Pop += exp(E);\n",
    "end\n",
    "(log(Pop/N)+60*log(2))/60"
   ]
  },
  {
   "cell_type": "code",
   "execution_count": 137,
   "metadata": {},
   "outputs": [
    {
     "data": {
      "text/plain": [
       "5×3×4 BitArray{3}:\n",
       "[:, :, 1] =\n",
       "  true  false   true\n",
       " false   true  false\n",
       "  true  false   true\n",
       " false  false   true\n",
       " false   true  false\n",
       "\n",
       "[:, :, 2] =\n",
       "  true   true  false\n",
       " false  false  false\n",
       "  true   true   true\n",
       " false  false   true\n",
       "  true   true   true\n",
       "\n",
       "[:, :, 3] =\n",
       " false  false  false\n",
       "  true   true  false\n",
       "  true  false   true\n",
       " false   true  false\n",
       "  true   true   true\n",
       "\n",
       "[:, :, 4] =\n",
       "  true   true   true\n",
       " false  false  false\n",
       "  true  false   true\n",
       "  true  false  false\n",
       " false  false   true"
      ]
     },
     "execution_count": 137,
     "metadata": {},
     "output_type": "execute_result"
    }
   ],
   "source": [
    "String"
   ]
  },
  {
   "cell_type": "code",
   "execution_count": 138,
   "metadata": {},
   "outputs": [
    {
     "data": {
      "text/plain": [
       "42"
      ]
     },
     "execution_count": 138,
     "metadata": {},
     "output_type": "execute_result"
    }
   ],
   "source": [
    "Max"
   ]
  },
  {
   "cell_type": "code",
   "execution_count": null,
   "metadata": {},
   "outputs": [],
   "source": [
    "46"
   ]
  }
 ],
 "metadata": {
  "@webio": {
   "lastCommId": null,
   "lastKernelId": null
  },
  "kernelspec": {
   "display_name": "Julia 1.1.0",
   "language": "julia",
   "name": "julia-1.1"
  },
  "language_info": {
   "file_extension": ".jl",
   "mimetype": "application/julia",
   "name": "julia",
   "version": "1.1.0"
  }
 },
 "nbformat": 4,
 "nbformat_minor": 2
}
