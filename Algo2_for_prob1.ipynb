{
 "cells": [
  {
   "cell_type": "markdown",
   "metadata": {},
   "source": [
    "# Algorithm 2: Monte Carlo\n",
    "\n",
    "authors: Ximing Wang, Bin Cheng"
   ]
  },
  {
   "cell_type": "code",
   "execution_count": 1,
   "metadata": {},
   "outputs": [],
   "source": [
    "using Random"
   ]
  },
  {
   "cell_type": "code",
   "execution_count": 2,
   "metadata": {},
   "outputs": [],
   "source": [
    "using BenchmarkTools"
   ]
  },
  {
   "cell_type": "code",
   "execution_count": 2,
   "metadata": {},
   "outputs": [],
   "source": [
    "edges = [[1, 10], [1, 41], [1, 59], [2, 12], [2, 42], [2, 60], [3, 6], [3, \n",
    "  43], [3, 57], [4, 8], [4, 44], [4, 58], [5, 13], [5, 56], [5, \n",
    "  57], [6, 10], [6, 31], [7, 14], [7, 56], [7, 58], [8, 12], [8, \n",
    "  32], [9, 23], [9, 53], [9, 59], [10, 15], [11, 24], [11, 53], [11, \n",
    "  60], [12, 16], [13, 14], [13, 25], [14, 26], [15, 27], [15, \n",
    "  49], [16, 28], [16, 50], [17, 18], [17, 19], [17, 54], [18, \n",
    "  20], [18, 55], [19, 23], [19, 41], [20, 24], [20, 42], [21, \n",
    "  31], [21, 33], [21, 57], [22, 32], [22, 34], [22, 58], [23, \n",
    "  24], [25, 35], [25, 43], [26, 36], [26, 44], [27, 51], [27, \n",
    "  59], [28, 52], [28, 60], [29, 33], [29, 34], [29, 56], [30, \n",
    "  51], [30, 52], [30, 53], [31, 47], [32, 48], [33, 45], [34, \n",
    "  46], [35, 36], [35, 37], [36, 38], [37, 39], [37, 49], [38, \n",
    "  40], [38, 50], [39, 40], [39, 51], [40, 52], [41, 47], [42, \n",
    "  48], [43, 49], [44, 50], [45, 46], [45, 54], [46, 55], [47, \n",
    "  54], [48, 55]];"
   ]
  },
  {
   "cell_type": "code",
   "execution_count": 3,
   "metadata": {},
   "outputs": [
    {
     "data": {
      "text/plain": [
       "energy (generic function with 1 method)"
      ]
     },
     "execution_count": 3,
     "metadata": {},
     "output_type": "execute_result"
    }
   ],
   "source": [
    "function energy(conf)\n",
    "    res = 0\n",
    "    for edge in edges\n",
    "        res += conf[edge[1]] ⊻ conf[edge[2]]\n",
    "    end\n",
    "    res = res*2 - 90\n",
    "    return exp(-res)\n",
    "end"
   ]
  },
  {
   "cell_type": "code",
   "execution_count": 6,
   "metadata": {},
   "outputs": [
    {
     "name": "stdout",
     "output_type": "stream",
     "text": [
      "1.6012800086417276"
     ]
    }
   ],
   "source": [
    "res = 0\n",
    "N = 10^8\n",
    "terms = []\n",
    "for k in 1:N\n",
    "    conf = bitrand(60)\n",
    "    term = energy(conf)\n",
    "    res += term\n",
    "#     push!(terms, term)\n",
    "end\n",
    "print((60 - log(N) + log(res))/60)"
   ]
  },
  {
   "cell_type": "code",
   "execution_count": 4,
   "metadata": {},
   "outputs": [
    {
     "name": "stdout",
     "output_type": "stream",
     "text": [
      "1.6001540298975683"
     ]
    }
   ],
   "source": [
    "res = 0\n",
    "N = 10^8\n",
    "terms = []\n",
    "for k in 1:N\n",
    "    conf = bitrand(60)\n",
    "    term = energy(conf)\n",
    "    res += term\n",
    "#     push!(terms, term)\n",
    "end\n",
    "print((60 - log(N) + log(res))/60)"
   ]
  }
 ],
 "metadata": {
  "kernelspec": {
   "display_name": "Julia 1.1.0",
   "language": "julia",
   "name": "julia-1.1"
  },
  "language_info": {
   "file_extension": ".jl",
   "mimetype": "application/julia",
   "name": "julia",
   "version": "1.1.0"
  }
 },
 "nbformat": 4,
 "nbformat_minor": 2
}
