{
 "cells": [
  {
   "cell_type": "code",
   "execution_count": 1,
   "metadata": {},
   "outputs": [
    {
     "data": {
      "text/plain": [
       "12-element Array{Array{Array{Int64,1},1},1}:\n",
       " [[1, 1], [3, 3]]\n",
       " [[1, 2], [2, 1]]\n",
       " [[1, 3], [4, 2]]\n",
       " [[2, 1], [4, 3]]\n",
       " [[2, 2], [1, 1]]\n",
       " [[2, 3], [3, 2]]\n",
       " [[3, 1], [1, 3]]\n",
       " [[3, 2], [4, 1]]\n",
       " [[3, 3], [2, 2]]\n",
       " [[4, 1], [2, 3]]\n",
       " [[4, 2], [3, 1]]\n",
       " [[4, 3], [1, 2]]"
      ]
     },
     "execution_count": 1,
     "metadata": {},
     "output_type": "execute_result"
    }
   ],
   "source": [
    "Penda = [[-1,1,1,-1,1],[1,-1,1,1,-1],[-1,1,-1,1,1],[1,-1,1,-1,1],[1,1,-1,1,-1],[1,-1,-1,1,-1],[-1,1,-1,-1,1],[1,-1,1,-1,-1],[-1,1,-1,1,-1],[-1,-1,1,-1,1]];\n",
    "Equiv = [[2,4,10,8],[7,9,5,3],[1],[6]];\n",
    "Combi = [[1,1,1],[2,3,4],[4,2,3],[3,4,2],[1,3,4],[4,1,3],[3,4,1],[2,2,2]];\n",
    "\n",
    "K = [[[1,1],[3,3]],[[1,2],[2,1]],[[1,3],[4,2]],[[2,1],[4,3]],[[2,2],[1,1]],[[2,3],[3,2]],[[3,1],[1,3]],[[3,2],[4,1]],[[3,3],[2,2]],[[4,1],[2,3]],[[4,2],[3,1]],[[4,3],[1,2]]];"
   ]
  },
  {
   "cell_type": "code",
   "execution_count": 3,
   "metadata": {},
   "outputs": [],
   "source": [
    "z1 = zeros(Int64,3);\n",
    "z2 = [z1,z1,z1];\n",
    "node = [z2,z2,z2,z2,z2];"
   ]
  },
  {
   "cell_type": "code",
   "execution_count": 4,
   "metadata": {},
   "outputs": [
    {
     "name": "stdout",
     "output_type": "stream",
     "text": [
      "2431\n",
      "0"
     ]
    }
   ],
   "source": [
    "N = 10^8;\n",
    "ticki = 0;\n",
    "flagi = 0;\n",
    "for l in 1:N\n",
    "    E = 0;\n",
    "    \n",
    "    for m in 1:4\n",
    " \n",
    "    comb_1 = rand([k for k in 1:length(Combi)]);\n",
    "    comb_2 = rand([k for k in 1:length(Combi)]);\n",
    "    comb_3 = rand([k for k in 1:length(Combi)]);\n",
    "\n",
    "    equiv_1 = rand([i for i in 1:length(Equiv[Combi[comb_1][1]])]);\n",
    "    equiv_2 = rand([i for i in 1:length(Equiv[Combi[comb_2][2]])]);\n",
    "    equiv_3 = rand([i for i in 1:length(Equiv[Combi[comb_3][3]])]);\n",
    "\n",
    "    pend_1 = rand([i for i in 1:Equiv[Combi[comb_1][1]][equiv_1]]);\n",
    "    pend_2 = rand([i for i in 1:Equiv[Combi[comb_2][2]][equiv_2]]);\n",
    "    pend_3 = rand([i for i in 1:Equiv[Combi[comb_3][3]][equiv_3]]);\n",
    "    \n",
    "    node[m] = [Penda[pend_1],Penda[pend_2],Penda[pend_3]]\n",
    "    \n",
    "    end\n",
    "    \n",
    "    for i in 1:3\n",
    "        E += node[i][i][1] * node[i%3+1][i][1];\n",
    "        E += node[i][i%3+1][1] * node[4][i%3+1][1];\n",
    "    end\n",
    "    for i in 1:12\n",
    "        E += node[K[i][1][1]][K[i][1][2]][4] * node[K[i][2][1]][K[i][2][2]][5];\n",
    "    end\n",
    "    if E == 16\n",
    "        ticki = ticki+1;\n",
    "    end\n",
    "    if E > 16\n",
    "        flagi =1;\n",
    "    end\n",
    "end\n",
    "\n",
    "println(flagi)\n",
    "print(ticki)"
   ]
  }
 ],
 "metadata": {
  "kernelspec": {
   "display_name": "Julia 1.1.0",
   "language": "julia",
   "name": "julia-1.1"
  },
  "language_info": {
   "file_extension": ".jl",
   "mimetype": "application/julia",
   "name": "julia",
   "version": "1.1.0"
  }
 },
 "nbformat": 4,
 "nbformat_minor": 2
}
