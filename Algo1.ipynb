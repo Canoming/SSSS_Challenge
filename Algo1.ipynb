{
 "cells": [
  {
   "cell_type": "markdown",
   "metadata": {},
   "source": [
    "# Algorithm 1: Tensor Network"
   ]
  },
  {
   "cell_type": "code",
   "execution_count": 1,
   "metadata": {},
   "outputs": [],
   "source": [
    "import torch,math\n",
    "import numpy as np\n",
    "from scipy.linalg import sqrtm"
   ]
  },
  {
   "cell_type": "code",
   "execution_count": 18,
   "metadata": {},
   "outputs": [
    {
     "name": "stdout",
     "output_type": "stream",
     "text": [
      "90.8843541479285\n",
      "Wall time: 3.94 ms\n"
     ]
    }
   ],
   "source": [
    "%%time\n",
    "Bs=torch.tensor(sqrtm(np.array([[np.e,1/np.e],[1/np.e,np.e]])),dtype=torch.float64,device=torch.device('cpu')) # the Boltzmann matrix\n",
    "\n",
    "Node=torch.einsum(\"il,jl,kl->ijk\",B,B,B)\n",
    "Pen = torch.einsum(\"iab,jbc,kcd,lde,mea->ijklm\",sB,sB,sB,sB,sB)\n",
    "Top = torch.einsum(\"pqrst,aopkb,ckqld,elrmf,gmsnh,intoj->abcdefghij\",Pen,Pen,Pen,Pen,Pen,Pen)\n",
    "Total = torch.einsum(\"abcdefghij,defghijabc->\",Top,Top)\n",
    "\n",
    "print(math.log(Total.norm()))"
   ]
  },
  {
   "cell_type": "code",
   "execution_count": 19,
   "metadata": {},
   "outputs": [
    {
     "name": "stdout",
     "output_type": "stream",
     "text": [
      "90.88667835316197\n",
      "Wall time: 1.99 ms\n"
     ]
    }
   ],
   "source": [
    "%%time\n",
    "Bs=torch.tensor(sqrtm(np.array([[np.e,1/np.e],[1/np.e,np.e]])),dtype=torch.float64,device=torch.device('cpu')) # the Boltzmann matrix\n",
    "\n",
    "Node = torch.einsum(\"il,jl,kl->ijk\",Bs,Bs,Bs)\n",
    "Pen = torch.einsum(\"iab,jbc,kcd,lde,mea->ijklm\",Node,Node,Node,Node,Node)\n",
    "Tri = torch.einsum(\"abckj,deflk,ghijl->abcdefghi\",Pen,Pen,Pen)\n",
    "Bi = torch.einsum(\"abcdefghi,aijklmnob -> cdefghjklmno\", Tri,Tri)\n",
    "Total = torch.einsum(\"abcdefghijkl,lkjihgfedcba ->\",Bi,Bi)\n",
    "\n",
    "print(math.log(Total.norm()))"
   ]
  },
  {
   "cell_type": "code",
   "execution_count": null,
   "metadata": {},
   "outputs": [],
   "source": []
  }
 ],
 "metadata": {
  "@webio": {
   "lastCommId": null,
   "lastKernelId": null
  },
  "kernelspec": {
   "display_name": "Python (PyTorch)",
   "language": "python",
   "name": "torch"
  },
  "language_info": {
   "codemirror_mode": {
    "name": "ipython",
    "version": 3
   },
   "file_extension": ".py",
   "mimetype": "text/x-python",
   "name": "python",
   "nbconvert_exporter": "python",
   "pygments_lexer": "ipython3",
   "version": "3.7.1"
  }
 },
 "nbformat": 4,
 "nbformat_minor": 2
}
